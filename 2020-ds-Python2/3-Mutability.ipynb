{
 "cells": [
  {
   "cell_type": "markdown",
   "metadata": {},
   "source": [
    "# Mutability\n",
    "\n",
    "One thing that will come up as an important distinction in the structures we learn about today is the concept of mutability. **Mutability** refers to the capability of an object to be changed after it has been instantiated. With lists, we can change the contents at any arbitrary index and even grow the list dynamically..."
   ]
  },
  {
   "cell_type": "code",
   "execution_count": 1,
   "metadata": {
    "ExecuteTime": {
     "end_time": "2020-02-03T18:23:25.595496Z",
     "start_time": "2020-02-03T18:23:25.590113Z"
    }
   },
   "outputs": [
    {
     "data": {
      "text/plain": [
       "[0, 1, 2, 3, 4, 5, 6, 7, 8, 9]"
      ]
     },
     "execution_count": 1,
     "metadata": {},
     "output_type": "execute_result"
    }
   ],
   "source": [
    "l = list(range(10))\n",
    "l"
   ]
  },
  {
   "cell_type": "code",
   "execution_count": 2,
   "metadata": {
    "ExecuteTime": {
     "end_time": "2020-02-03T18:23:26.916062Z",
     "start_time": "2020-02-03T18:23:26.910195Z"
    }
   },
   "outputs": [
    {
     "data": {
      "text/plain": [
       "[0, 1, 2, 3, 0, 5, 6, 7, 8, 9]"
      ]
     },
     "execution_count": 2,
     "metadata": {},
     "output_type": "execute_result"
    }
   ],
   "source": [
    "l[4] = 0\n",
    "l"
   ]
  },
  {
   "cell_type": "code",
   "execution_count": 3,
   "metadata": {
    "ExecuteTime": {
     "end_time": "2020-02-03T18:23:29.074538Z",
     "start_time": "2020-02-03T18:23:29.065651Z"
    }
   },
   "outputs": [
    {
     "data": {
      "text/plain": [
       "[0, 1, 2, 3, 0, 5, 6, 7, 8, 9, 1]"
      ]
     },
     "execution_count": 3,
     "metadata": {},
     "output_type": "execute_result"
    }
   ],
   "source": [
    "l.append(1)\n",
    "l"
   ]
  },
  {
   "cell_type": "markdown",
   "metadata": {},
   "source": [
    "Mutability is nice, but there are times when we won't want our data structure to be mutable. For example, if we're allowing a user of our program to have access to a data structure, one way to ensure that they won't mess with it (sometimes users do this out of malice, and we want to try and prevent it) is to make the structure **immutable**. There are many more reasons why immutability is a desired trait, and we will discuss plenty more of them throughout the rest of the course.\n",
    "\n",
    "Let's quickly discuss the mutability of objects you already know about. The first types you learned about were various numerics (`int`, `float`, `complex`) - these are all immutable. What?! Immutable you say? But, I can change a value in a variable after it's been declared. Consider the following simple code."
   ]
  },
  {
   "cell_type": "code",
   "execution_count": 4,
   "metadata": {
    "ExecuteTime": {
     "end_time": "2020-02-03T18:23:30.891683Z",
     "start_time": "2020-02-03T18:23:30.888803Z"
    }
   },
   "outputs": [],
   "source": [
    "# First mention of x\n",
    "x = 1"
   ]
  },
  {
   "cell_type": "code",
   "execution_count": 5,
   "metadata": {
    "ExecuteTime": {
     "end_time": "2020-02-03T18:23:31.889251Z",
     "start_time": "2020-02-03T18:23:31.885849Z"
    }
   },
   "outputs": [],
   "source": [
    "# Change the value of x\n",
    "x = 2"
   ]
  },
  {
   "cell_type": "markdown",
   "metadata": {},
   "source": [
    "How can numerics be immutable while at the same time allowing us to change the value of a variable that holds a numeric? What's going on under the hood when you assign a value to a variable is that Python puts that value or data structure in memory, and then simply associates the variable name with that value or data structure. Changing a variable, then, simply amounts to associating that name with a different thing in memory.\n",
    "\n",
    "Using this same logic, we can see why strings are immutable as well. The contents of a string are put in memory, and the variable name you want to use is associated with that string. When you want to change the variable to a different string, Python simply associates that name with a different string, which is also immutable.\n",
    "\n",
    "**Note**: The discussion of Python having names [here](http://python.net/~goodger/projects/pycon/2007/idiomatic/handout.html#python-has-names) is really good if you're looking for more clarification.\n",
    "\n",
    "Lists, on the other hand, are mutable. This means that you can change the structure of the list in addition to the names of the things that are in the list (notice the specific use of names there; we'll come back to that in the next section).\n",
    "\n",
    "**Mutibality Questions**\n",
    "\n",
    "Consider the list: `my_list = [1, 2, 3, 4, 5, 6, 7, 8, 9, 10]`. Each of the following questions is based on this exact list unless otherwise specified.\n",
    "\n",
    "1. What do you expect `my_list` to look like after running `my_list[4] = 200`?\n",
    "2. What do you expect `my_list` to look like after running `my_list.append(9)`?\n",
    "    1. On this new version of `my_list`, run `my_list.sort()`. What do you expect `my_list` to look like now? \n",
    "3. Take a look at the docs for the insert method [here](https://docs.python.org/2/tutorial/datastructures.html). What do you expect `my_list` to look like after `my_list.insert(0, 'hello')`? \n",
    "    1. On this new version of `my_list`, run `my_list.sort()`. What do you expect `my_list` to look like now? \n",
    "4. What do you expect `my_list` to look like after `my_list.reverse()`?\n",
    "5. Why can you change the data in `my_list` as you did in the above questions? Was a new list created when you ran `my_list.sort()`?\n",
    "6. Make sure that you tried out the code from the above examples. Did those operations return anything? Why or why not?\n",
    "\n",
    "## Tuples\n",
    "\n",
    "Tuples are simply the immutable brother/sister of the `list`. Tuples are immutable, ordered collections. This means that once a tuple is instantiated, all you can do is access its contents. You cannot make a tuple longer. You cannot reassign what is in a tuple (there are some subtleties to this which we will discuss shortly). Similar to lists, tuples are declared by passing an iterable to the `tuple()` constructor, with or without the syntactic sugary parenthesis (this works because Python automatically interprets comma separated things that aren't specifically specified otherwise as tuples)."
   ]
  },
  {
   "cell_type": "code",
   "execution_count": 39,
   "metadata": {},
   "outputs": [
    {
     "name": "stdout",
     "output_type": "stream",
     "text": [
      "[1, 2, 3, 4, 200, 6, 7, 8, 9, 10]\n"
     ]
    }
   ],
   "source": [
    "# Question 1 - the number 5 will be replaced with 200 because of Index Nr. 4 counting from 0\n",
    "my_list = [1, 2, 3, 4, 5, 6, 7, 8, 9, 10]\n",
    "my_list[4] = 200\n",
    "print(my_list)"
   ]
  },
  {
   "cell_type": "code",
   "execution_count": 40,
   "metadata": {},
   "outputs": [
    {
     "name": "stdout",
     "output_type": "stream",
     "text": [
      "[1, 2, 3, 4, 200, 6, 7, 8, 9, 10, 9]\n"
     ]
    }
   ],
   "source": [
    "# Question 2 - Number 9 will be added to our list (et the end)\n",
    "my_list.append(9)\n",
    "print(my_list)"
   ]
  },
  {
   "cell_type": "code",
   "execution_count": 41,
   "metadata": {},
   "outputs": [
    {
     "name": "stdout",
     "output_type": "stream",
     "text": [
      "[1, 2, 3, 4, 6, 7, 8, 9, 9, 9, 10, 200]\n"
     ]
    }
   ],
   "source": [
    "# Question 2 - the list will be sorted from 1 up to 200\n",
    "my_list.append(9)\n",
    "my_list.sort()\n",
    "print(my_list)"
   ]
  },
  {
   "cell_type": "code",
   "execution_count": 42,
   "metadata": {},
   "outputs": [
    {
     "name": "stdout",
     "output_type": "stream",
     "text": [
      "['hello', 1, 2, 3, 4, 6, 7, 8, 9, 9, 9, 10, 200]\n"
     ]
    }
   ],
   "source": [
    "# Question 3 - \"hello\" will be added at the index 0\n",
    "my_list.insert(0, 'hello')\n",
    "print(my_list)"
   ]
  },
  {
   "cell_type": "code",
   "execution_count": 43,
   "metadata": {},
   "outputs": [
    {
     "ename": "TypeError",
     "evalue": "'<' not supported between instances of 'int' and 'str'",
     "output_type": "error",
     "traceback": [
      "\u001b[0;31m---------------------------------------------------------------------------\u001b[0m",
      "\u001b[0;31mTypeError\u001b[0m                                 Traceback (most recent call last)",
      "\u001b[0;32m<ipython-input-43-9f261a31ac17>\u001b[0m in \u001b[0;36m<module>\u001b[0;34m\u001b[0m\n\u001b[1;32m      1\u001b[0m \u001b[0;31m# Question 3 - unsure if int or str will be preferred, I thought the \"hello\" will switch to the end?\u001b[0m\u001b[0;34m\u001b[0m\u001b[0;34m\u001b[0m\u001b[0;34m\u001b[0m\u001b[0m\n\u001b[1;32m      2\u001b[0m \u001b[0;31m# Surprise .. it's not possible to rank int and str\u001b[0m\u001b[0;34m\u001b[0m\u001b[0;34m\u001b[0m\u001b[0;34m\u001b[0m\u001b[0m\n\u001b[0;32m----> 3\u001b[0;31m \u001b[0mmy_list\u001b[0m\u001b[0;34m.\u001b[0m\u001b[0msort\u001b[0m\u001b[0;34m(\u001b[0m\u001b[0;34m)\u001b[0m\u001b[0;34m\u001b[0m\u001b[0;34m\u001b[0m\u001b[0m\n\u001b[0m\u001b[1;32m      4\u001b[0m \u001b[0mprint\u001b[0m\u001b[0;34m(\u001b[0m\u001b[0mmy_list\u001b[0m\u001b[0;34m)\u001b[0m\u001b[0;34m\u001b[0m\u001b[0;34m\u001b[0m\u001b[0m\n",
      "\u001b[0;31mTypeError\u001b[0m: '<' not supported between instances of 'int' and 'str'"
     ]
    }
   ],
   "source": [
    "# Question 3 - unsure if int or str will be preferred, I thought the \"hello\" will switch to the end?\n",
    "# Surprise .. it's not possible to rank int and str\n",
    "my_list.sort()\n",
    "print(my_list)"
   ]
  },
  {
   "cell_type": "code",
   "execution_count": 44,
   "metadata": {},
   "outputs": [
    {
     "name": "stdout",
     "output_type": "stream",
     "text": [
      "[200, 10, 9, 9, 9, 8, 7, 6, 4, 3, 2, 1, 'hello']\n"
     ]
    }
   ],
   "source": [
    "# Question 4 - the list will come out the other way around\n",
    "my_list.reverse()\n",
    "print(my_list)"
   ]
  },
  {
   "cell_type": "code",
   "execution_count": 45,
   "metadata": {},
   "outputs": [],
   "source": [
    "# Question 5\n",
    "# I can, because a list is mutable. "
   ]
  },
  {
   "cell_type": "code",
   "execution_count": 46,
   "metadata": {
    "ExecuteTime": {
     "end_time": "2020-02-03T18:23:45.503509Z",
     "start_time": "2020-02-03T18:23:45.497734Z"
    }
   },
   "outputs": [
    {
     "data": {
      "text/plain": [
       "(1, 2)"
      ]
     },
     "execution_count": 46,
     "metadata": {},
     "output_type": "execute_result"
    }
   ],
   "source": [
    "my_first_tuple = tuple([1, 2])\n",
    "my_first_tuple"
   ]
  },
  {
   "cell_type": "code",
   "execution_count": 47,
   "metadata": {
    "ExecuteTime": {
     "end_time": "2020-02-03T18:23:46.246559Z",
     "start_time": "2020-02-03T18:23:46.241302Z"
    }
   },
   "outputs": [
    {
     "data": {
      "text/plain": [
       "(1, 2)"
      ]
     },
     "execution_count": 47,
     "metadata": {},
     "output_type": "execute_result"
    }
   ],
   "source": [
    "my_other_tuple = (1, 2)\n",
    "my_other_tuple"
   ]
  },
  {
   "cell_type": "code",
   "execution_count": 48,
   "metadata": {
    "ExecuteTime": {
     "end_time": "2020-02-03T18:23:46.987477Z",
     "start_time": "2020-02-03T18:23:46.981933Z"
    }
   },
   "outputs": [
    {
     "data": {
      "text/plain": [
       "(1, 2)"
      ]
     },
     "execution_count": 48,
     "metadata": {},
     "output_type": "execute_result"
    }
   ],
   "source": [
    "my_third_tuple = 1, 2\n",
    "my_third_tuple"
   ]
  },
  {
   "cell_type": "markdown",
   "metadata": {},
   "source": [
    "What are the direct implications of using a tuple versus a list? Well, suppose we are trying to grab the even numbers, stored in some collection, say the numbers 1-20. If we were to do this with a list, that might look like the following..."
   ]
  },
  {
   "cell_type": "code",
   "execution_count": 49,
   "metadata": {
    "ExecuteTime": {
     "end_time": "2020-02-03T18:23:49.095193Z",
     "start_time": "2020-02-03T18:23:49.087640Z"
    }
   },
   "outputs": [
    {
     "data": {
      "text/plain": [
       "[2, 4, 6, 8, 10, 12, 14, 16, 18, 20]"
      ]
     },
     "execution_count": 49,
     "metadata": {},
     "output_type": "execute_result"
    }
   ],
   "source": [
    "evens = []\n",
    "for element in range(1, 21):\n",
    "    if element % 2 == 0:\n",
    "        evens.append(element)\n",
    "evens"
   ]
  },
  {
   "cell_type": "markdown",
   "metadata": {},
   "source": [
    "We could try to do this using a tuple instead of a list with `evens = ()`, but once we tried to run our code we would immediately get an error that says `AttributeError: 'tuple' object has no attribute 'append'` (try this out by changing the code in the cell above). The error message is pretty self explanatory. In plain English, it tells us that tuples have no ability to append. This is just as we expected, given that they are immutable.\n",
    "\n",
    "You might be asking yourself what a tuple can store? The answer is, just as with lists, anything! Just as with lists, the elements of tuples can be accessed via zero-based indexing, and looped through with a `for` loop. And just as with lists, the elements in a tuple can be either homogeneous or heterogeneous (know though, that there are structures in Python that enforce homogeneity). Let's stick with looking at tuples for now, and take a look at some of the things we can store."
   ]
  },
  {
   "cell_type": "code",
   "execution_count": 50,
   "metadata": {
    "ExecuteTime": {
     "end_time": "2020-02-03T18:23:55.871909Z",
     "start_time": "2020-02-03T18:23:55.868173Z"
    }
   },
   "outputs": [],
   "source": [
    "t = (1, 3.5)"
   ]
  },
  {
   "cell_type": "code",
   "execution_count": 51,
   "metadata": {
    "ExecuteTime": {
     "end_time": "2020-02-03T18:23:56.801227Z",
     "start_time": "2020-02-03T18:23:56.795291Z"
    }
   },
   "outputs": [
    {
     "data": {
      "text/plain": [
       "int"
      ]
     },
     "execution_count": 51,
     "metadata": {},
     "output_type": "execute_result"
    }
   ],
   "source": [
    "type(t[0])"
   ]
  },
  {
   "cell_type": "code",
   "execution_count": 52,
   "metadata": {
    "ExecuteTime": {
     "end_time": "2020-02-03T18:23:57.933580Z",
     "start_time": "2020-02-03T18:23:57.927207Z"
    }
   },
   "outputs": [
    {
     "data": {
      "text/plain": [
       "float"
      ]
     },
     "execution_count": 52,
     "metadata": {},
     "output_type": "execute_result"
    }
   ],
   "source": [
    "type(t[1])"
   ]
  },
  {
   "cell_type": "code",
   "execution_count": 53,
   "metadata": {
    "ExecuteTime": {
     "end_time": "2020-02-03T18:23:58.988858Z",
     "start_time": "2020-02-03T18:23:58.982835Z"
    }
   },
   "outputs": [
    {
     "data": {
      "text/plain": [
       "list"
      ]
     },
     "execution_count": 53,
     "metadata": {},
     "output_type": "execute_result"
    }
   ],
   "source": [
    "t = (1, [1, 2])\n",
    "type(t[1])"
   ]
  },
  {
   "cell_type": "code",
   "execution_count": 54,
   "metadata": {
    "ExecuteTime": {
     "end_time": "2020-02-03T18:24:01.285169Z",
     "start_time": "2020-02-03T18:24:01.279570Z"
    }
   },
   "outputs": [
    {
     "data": {
      "text/plain": [
       "tuple"
      ]
     },
     "execution_count": 54,
     "metadata": {},
     "output_type": "execute_result"
    }
   ],
   "source": [
    "t = (1, (1, 2))\n",
    "type(t[1])"
   ]
  },
  {
   "cell_type": "markdown",
   "metadata": {},
   "source": [
    "One tricky thing about tuples is that even though they are immutable, if they are storing any mutable data types, those structures **can** be changed!"
   ]
  },
  {
   "cell_type": "code",
   "execution_count": 55,
   "metadata": {
    "ExecuteTime": {
     "end_time": "2020-02-03T18:24:14.806677Z",
     "start_time": "2020-02-03T18:24:14.802881Z"
    }
   },
   "outputs": [],
   "source": [
    "t = (1, [1, 2])"
   ]
  },
  {
   "cell_type": "code",
   "execution_count": 56,
   "metadata": {
    "ExecuteTime": {
     "end_time": "2020-02-03T18:24:15.727078Z",
     "start_time": "2020-02-03T18:24:15.721318Z"
    }
   },
   "outputs": [
    {
     "data": {
      "text/plain": [
       "(1, [1, 2, 3])"
      ]
     },
     "execution_count": 56,
     "metadata": {},
     "output_type": "execute_result"
    }
   ],
   "source": [
    "t[1].append(3)\n",
    "t"
   ]
  },
  {
   "cell_type": "markdown",
   "metadata": {},
   "source": [
    "**Note**: This is the first time that you've seen the `append()` method used directly on something that doesn't look like a list. This works because Python, upon accessing the contents of `t` at index 1, will find a list. It will then immediately call the `append()` method on that structure. This concept of being able to act on data structures that you don't necessarily know the contents of is very powerful, and we will use it time and again.\n",
    "\n",
    "One last thing to note is that since tuples are immutable, they have very few methods associated with them - only `count()` and `index()`. For this reason, we say that they are very lightweight; they don't take up much space in memory, but also don't have much built in functionality.\n",
    "\n",
    "**Tuple Questions**\n",
    "\n",
    "1. Make a tuple called `my_tuple` with the values `1` and `\"hello\"` in it. \n",
    "    1. How do you access the `1` in `my_tuple`?\n",
    "    2. How do you access the `\"hello\"` in `my_tuple`?\n",
    "2. Can you change the `\"hello\"` entry in `my_tuple` to `\"hello there\"`? Why or why not?\n",
    "3. Make a tuple called `other_tuple` with the values `\"other\"` and an empty list in it.\n",
    "    1. Add the word `\"there\"` to the list in the tuple. Why can you do this?\n",
    "    2. Add the word `\"hello\"` to the list in the tuple as the first element in the list."
   ]
  },
  {
   "cell_type": "code",
   "execution_count": 78,
   "metadata": {},
   "outputs": [
    {
     "data": {
      "text/plain": [
       "1"
      ]
     },
     "execution_count": 78,
     "metadata": {},
     "output_type": "execute_result"
    }
   ],
   "source": [
    "# Question 1A\n",
    "my_tuple = (1, \"hello\")\n",
    "my_tuple[0]"
   ]
  },
  {
   "cell_type": "code",
   "execution_count": 79,
   "metadata": {},
   "outputs": [
    {
     "data": {
      "text/plain": [
       "'hello'"
      ]
     },
     "execution_count": 79,
     "metadata": {},
     "output_type": "execute_result"
    }
   ],
   "source": [
    "# Question 1B\n",
    "my_tuple = (1, \"hello\")\n",
    "my_tuple[1]"
   ]
  },
  {
   "cell_type": "code",
   "execution_count": 80,
   "metadata": {},
   "outputs": [
    {
     "ename": "TypeError",
     "evalue": "'tuple' object does not support item assignment",
     "output_type": "error",
     "traceback": [
      "\u001b[0;31m---------------------------------------------------------------------------\u001b[0m",
      "\u001b[0;31mTypeError\u001b[0m                                 Traceback (most recent call last)",
      "\u001b[0;32m<ipython-input-80-39c7c846418a>\u001b[0m in \u001b[0;36m<module>\u001b[0;34m\u001b[0m\n\u001b[1;32m      2\u001b[0m \u001b[0;31m# I can't because a tuple is immutable.\u001b[0m\u001b[0;34m\u001b[0m\u001b[0;34m\u001b[0m\u001b[0;34m\u001b[0m\u001b[0m\n\u001b[1;32m      3\u001b[0m \u001b[0mmy_tuple\u001b[0m \u001b[0;34m=\u001b[0m \u001b[0;34m(\u001b[0m\u001b[0;36m1\u001b[0m\u001b[0;34m,\u001b[0m \u001b[0;34m\"hello\"\u001b[0m\u001b[0;34m)\u001b[0m\u001b[0;34m\u001b[0m\u001b[0;34m\u001b[0m\u001b[0m\n\u001b[0;32m----> 4\u001b[0;31m \u001b[0mmy_tuple\u001b[0m\u001b[0;34m[\u001b[0m\u001b[0;36m1\u001b[0m\u001b[0;34m]\u001b[0m \u001b[0;34m=\u001b[0m \u001b[0;34m\"hello there\"\u001b[0m\u001b[0;34m\u001b[0m\u001b[0;34m\u001b[0m\u001b[0m\n\u001b[0m",
      "\u001b[0;31mTypeError\u001b[0m: 'tuple' object does not support item assignment"
     ]
    }
   ],
   "source": [
    "# Question 2\n",
    "# I can't because a tuple is immutable. \n",
    "my_tuple = (1, \"hello\")\n",
    "my_tuple[1] = \"hello there\""
   ]
  },
  {
   "cell_type": "code",
   "execution_count": 81,
   "metadata": {},
   "outputs": [
    {
     "name": "stdout",
     "output_type": "stream",
     "text": [
      "('other', ['there'])\n"
     ]
    }
   ],
   "source": [
    "# Question 3A \n",
    "# I can because I am not changing the tupkle itself. I am changing the elements of a list in a tuple.\n",
    "other_tuple = (\"other\", [])\n",
    "other_tuple[1].append(\"there\")\n",
    "print(other_tuple)"
   ]
  },
  {
   "cell_type": "code",
   "execution_count": 82,
   "metadata": {},
   "outputs": [
    {
     "name": "stdout",
     "output_type": "stream",
     "text": [
      "('other', ['there', 'hello'])\n"
     ]
    }
   ],
   "source": [
    "# Question 3B\n",
    "other_tuple[1].append(\"hello\")\n",
    "print(other_tuple)"
   ]
  },
  {
   "cell_type": "code",
   "execution_count": null,
   "metadata": {},
   "outputs": [],
   "source": []
  }
 ],
 "metadata": {
  "kernelspec": {
   "display_name": "Python 3",
   "language": "python",
   "name": "python3"
  },
  "language_info": {
   "codemirror_mode": {
    "name": "ipython",
    "version": 3
   },
   "file_extension": ".py",
   "mimetype": "text/x-python",
   "name": "python",
   "nbconvert_exporter": "python",
   "pygments_lexer": "ipython3",
   "version": "3.6.10"
  },
  "toc": {
   "base_numbering": 1,
   "nav_menu": {},
   "number_sections": true,
   "sideBar": true,
   "skip_h1_title": false,
   "title_cell": "Table of Contents",
   "title_sidebar": "Contents",
   "toc_cell": false,
   "toc_position": {},
   "toc_section_display": true,
   "toc_window_display": false
  },
  "varInspector": {
   "cols": {
    "lenName": 16,
    "lenType": 16,
    "lenVar": 40
   },
   "kernels_config": {
    "python": {
     "delete_cmd_postfix": "",
     "delete_cmd_prefix": "del ",
     "library": "var_list.py",
     "varRefreshCmd": "print(var_dic_list())"
    },
    "r": {
     "delete_cmd_postfix": ") ",
     "delete_cmd_prefix": "rm(",
     "library": "var_list.r",
     "varRefreshCmd": "cat(var_dic_list()) "
    }
   },
   "types_to_exclude": [
    "module",
    "function",
    "builtin_function_or_method",
    "instance",
    "_Feature"
   ],
   "window_display": false
  }
 },
 "nbformat": 4,
 "nbformat_minor": 1
}
